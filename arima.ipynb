{
 "cells": [
  {
   "cell_type": "code",
   "execution_count": 29,
   "metadata": {},
   "outputs": [],
   "source": [
    "import pandas as pd\n",
    "import numpy as np\n",
    "from datetime import datetime, timedelta\n",
    "import matplotlib.pyplot as plt\n",
    "\n"
   ]
  },
  {
   "cell_type": "code",
   "execution_count": 30,
   "metadata": {},
   "outputs": [],
   "source": [
    "def load_data(filename='project_conflicts.csv'):\n",
    "    \"\"\"Load and preprocess project conflicts data\"\"\"\n",
    "    df = pd.read_csv(filename)\n",
    "    df['Start_Date'] = pd.to_datetime(df['Start_Date'])\n",
    "    df['End_Date'] = pd.to_datetime(df['End_Date'])\n",
    "    return df\n",
    "\n"
   ]
  },
  {
   "cell_type": "code",
   "execution_count": 31,
   "metadata": {},
   "outputs": [],
   "source": [
    "def find_nearest_projects(df):\n",
    "    \"\"\"Find nearest projects based on user-provided date range\"\"\"\n",
    "    # Get user input for start and end dates\n",
    "    start_date_str = input(\"Enter start date (YYYY-MM-DD): \")\n",
    "    end_date_str = input(\"Enter end date (YYYY-MM-DD): \")\n",
    "    \n",
    "    user_start = pd.to_datetime(start_date_str)\n",
    "    user_end = pd.to_datetime(end_date_str)\n",
    "    \n",
    "    # Calculate date differences\n",
    "    df['start_diff'] = abs(df['Start_Date'] - user_start)\n",
    "    df['end_diff'] = abs(df['End_Date'] - user_end)\n",
    "    \n",
    "    # Combine start and end date differences\n",
    "    df['total_diff'] = df['start_diff'] + df['end_diff']\n",
    "    \n",
    "    # Sort by total difference to find nearest projects\n",
    "    nearest_projects = df.sort_values('total_diff').head(5)\n",
    "    \n",
    "    print(\"\\nNearest Projects:\")\n",
    "    for _, project in nearest_projects.iterrows():\n",
    "        print(f\"Project ID: {project['Project_ID']}\")\n",
    "        print(f\"Location: {project['Location']}\")\n",
    "        print(f\"Project Type: {project['Project_Type']}\")\n",
    "        print(f\"Project Start Date: {project['Start_Date'].strftime('%Y-%m-%d')}\")\n",
    "        print(f\"Project End Date: {project['End_Date'].strftime('%Y-%m-%d')}\")\n",
    "        print(f\"Proximity Score: {project['total_diff']}\")\n",
    "        print(\"-\" * 40)\n"
   ]
  },
  {
   "cell_type": "code",
   "execution_count": 32,
   "metadata": {},
   "outputs": [],
   "source": [
    "def analyze_project_conflicts(df):\n",
    "    \"\"\"Perform comprehensive project conflict analysis\"\"\"\n",
    "    project_type_counts = df['Project_Type'].value_counts()\n",
    "    print(\"\\nProject Type Distribution:\")\n",
    "    for project_type, count in project_type_counts.items():\n",
    "        print(f\"{project_type}: {count}\")\n",
    "    \n",
    "    location_project_counts = df.groupby('Location').size()\n",
    "    print(\"\\nProjects per Location:\")\n",
    "    for location, count in location_project_counts.items():\n",
    "        print(f\"{location}: {count}\")\n",
    "    \n",
    "    overlapping_projects = []\n",
    "    for i in range(len(df)):\n",
    "        for j in range(i+1, len(df)):\n",
    "            if (df.iloc[i]['Location'] == df.iloc[j]['Location'] and\n",
    "                df.iloc[i]['Start_Date'] <= df.iloc[j]['End_Date'] and\n",
    "                df.iloc[j]['Start_Date'] <= df.iloc[i]['End_Date']):\n",
    "                overlapping_projects.append({\n",
    "                    'Project1': df.iloc[i]['Project_ID'],\n",
    "                    'Project2': df.iloc[j]['Project_ID'],\n",
    "                    'Location': df.iloc[i]['Location']\n",
    "                })\n",
    "    \n",
    "    print(\"\\nPotential Project Overlaps:\")\n",
    "    for overlap in overlapping_projects:\n",
    "        print(f\"Projects {overlap['Project1']} and {overlap['Project2']} in {overlap['Location']}\")"
   ]
  },
  {
   "cell_type": "code",
   "execution_count": 33,
   "metadata": {},
   "outputs": [],
   "source": [
    "def visualize_project_data(df):\n",
    "    \"\"\"Create visualizations for project data\"\"\"\n",
    "    plt.figure(figsize=(15, 5))\n",
    "    \n",
    "    # Project Type Distribution\n",
    "    plt.subplot(1, 2, 1)\n",
    "    df['Project_Type'].value_counts().plot(kind='pie', autopct='%1.1f%%')\n",
    "    plt.title('Project Type Distribution')\n",
    "    \n",
    "    # Projects per Location\n",
    "    plt.subplot(1, 2, 2)\n",
    "    df.groupby('Location').size().plot(kind='bar')\n",
    "    plt.title('Projects per Location')\n",
    "    plt.xticks(rotation=45, ha='right')\n",
    "    \n",
    "    plt.tight_layout()\n",
    "    plt.show()\n",
    "\n"
   ]
  },
  {
   "cell_type": "code",
   "execution_count": 34,
   "metadata": {},
   "outputs": [],
   "source": [
    "def main():\n",
    "    \"\"\"Main function to execute project proximity analysis\"\"\"\n",
    "    df = load_data()\n",
    "    \n",
    "    # Find nearest projects based on user date range\n",
    "    find_nearest_projects(df)\n",
    "    \n",
    "    # Optional comprehensive analysis\n",
    "    analysis_choice = input(\"\\nWould you like detailed project analysis? (yes/no): \").lower()\n",
    "    if analysis_choice == 'yes':\n",
    "        analyze_project_conflicts(df)\n",
    "        \n",
    "        # Optional visualization\n",
    "        visualize_choice = input(\"\\nWould you like to see project visualizations? (yes/no): \").lower()\n",
    "        if visualize_choice == 'yes':\n",
    "            visualize_project_data(df)\n"
   ]
  },
  {
   "cell_type": "code",
   "execution_count": 35,
   "metadata": {},
   "outputs": [
    {
     "name": "stdout",
     "output_type": "stream",
     "text": [
      "\n",
      "Nearest Projects:\n",
      "Project ID: 47\n",
      "Location: Beta VI\n",
      "Project Type: Water\n",
      "Project Start Date: 2025-07-15\n",
      "Project End Date: 2025-10-15\n",
      "Proximity Score: 38 days 00:00:00\n",
      "----------------------------------------\n",
      "Project ID: 27\n",
      "Location: Beta IV\n",
      "Project Type: Water\n",
      "Project Start Date: 2025-07-15\n",
      "Project End Date: 2025-10-15\n",
      "Proximity Score: 38 days 00:00:00\n",
      "----------------------------------------\n",
      "Project ID: 17\n",
      "Location: Noida Extension\n",
      "Project Type: Water\n",
      "Project Start Date: 2025-07-15\n",
      "Project End Date: 2025-10-15\n",
      "Proximity Score: 38 days 00:00:00\n",
      "----------------------------------------\n",
      "Project ID: 37\n",
      "Location: Noida Extension II\n",
      "Project Type: Water\n",
      "Project Start Date: 2025-07-15\n",
      "Project End Date: 2025-10-15\n",
      "Proximity Score: 38 days 00:00:00\n",
      "----------------------------------------\n",
      "Project ID: 7\n",
      "Location: Beta II\n",
      "Project Type: Water\n",
      "Project Start Date: 2025-07-15\n",
      "Project End Date: 2025-10-15\n",
      "Proximity Score: 38 days 00:00:00\n",
      "----------------------------------------\n"
     ]
    }
   ],
   "source": [
    "if __name__ == \"__main__\":\n",
    "    main()\n",
    "\n",
    "\n"
   ]
  }
 ],
 "metadata": {
  "kernelspec": {
   "display_name": "Python 3",
   "language": "python",
   "name": "python3"
  },
  "language_info": {
   "codemirror_mode": {
    "name": "ipython",
    "version": 3
   },
   "file_extension": ".py",
   "mimetype": "text/x-python",
   "name": "python",
   "nbconvert_exporter": "python",
   "pygments_lexer": "ipython3",
   "version": "3.9.6"
  }
 },
 "nbformat": 4,
 "nbformat_minor": 2
}
